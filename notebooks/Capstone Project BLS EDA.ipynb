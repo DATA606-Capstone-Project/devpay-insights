{
 "cells": [
  {
   "cell_type": "markdown",
   "id": "ba1feb0f-cc92-4800-a8e4-fafeece1e086",
   "metadata": {},
   "source": [
    "## Load and Preview Dataset\n",
    "\n",
    "We begin by loading the BLS dataset and inspecting its structure. This helps us understand the available columns, identify relevant features, and determine how to clean or transform the data for analysis."
   ]
  },
  {
   "cell_type": "code",
   "execution_count": 1,
   "id": "e85c0779-6f6c-48f4-8a63-035c49831447",
   "metadata": {},
   "outputs": [
    {
     "data": {
      "text/html": [
       "<div>\n",
       "<style scoped>\n",
       "    .dataframe tbody tr th:only-of-type {\n",
       "        vertical-align: middle;\n",
       "    }\n",
       "\n",
       "    .dataframe tbody tr th {\n",
       "        vertical-align: top;\n",
       "    }\n",
       "\n",
       "    .dataframe thead th {\n",
       "        text-align: right;\n",
       "    }\n",
       "</style>\n",
       "<table border=\"1\" class=\"dataframe\">\n",
       "  <thead>\n",
       "    <tr style=\"text-align: right;\">\n",
       "      <th></th>\n",
       "      <th>AREA</th>\n",
       "      <th>AREA_TITLE</th>\n",
       "      <th>AREA_TYPE</th>\n",
       "      <th>PRIM_STATE</th>\n",
       "      <th>NAICS</th>\n",
       "      <th>NAICS_TITLE</th>\n",
       "      <th>I_GROUP</th>\n",
       "      <th>OWN_CODE</th>\n",
       "      <th>OCC_CODE</th>\n",
       "      <th>OCC_TITLE</th>\n",
       "      <th>...</th>\n",
       "      <th>H_MEDIAN</th>\n",
       "      <th>H_PCT75</th>\n",
       "      <th>H_PCT90</th>\n",
       "      <th>A_PCT10</th>\n",
       "      <th>A_PCT25</th>\n",
       "      <th>A_MEDIAN</th>\n",
       "      <th>A_PCT75</th>\n",
       "      <th>A_PCT90</th>\n",
       "      <th>ANNUAL</th>\n",
       "      <th>HOURLY</th>\n",
       "    </tr>\n",
       "  </thead>\n",
       "  <tbody>\n",
       "    <tr>\n",
       "      <th>0</th>\n",
       "      <td>99</td>\n",
       "      <td>U.S.</td>\n",
       "      <td>1</td>\n",
       "      <td>US</td>\n",
       "      <td>000000</td>\n",
       "      <td>Cross-industry</td>\n",
       "      <td>cross-industry</td>\n",
       "      <td>1235</td>\n",
       "      <td>00-0000</td>\n",
       "      <td>All Occupations</td>\n",
       "      <td>...</td>\n",
       "      <td>23.8</td>\n",
       "      <td>37.89</td>\n",
       "      <td>60.44</td>\n",
       "      <td>29990</td>\n",
       "      <td>36730</td>\n",
       "      <td>49500</td>\n",
       "      <td>78810</td>\n",
       "      <td>125720</td>\n",
       "      <td>NaN</td>\n",
       "      <td>NaN</td>\n",
       "    </tr>\n",
       "    <tr>\n",
       "      <th>1</th>\n",
       "      <td>99</td>\n",
       "      <td>U.S.</td>\n",
       "      <td>1</td>\n",
       "      <td>US</td>\n",
       "      <td>000000</td>\n",
       "      <td>Cross-industry</td>\n",
       "      <td>cross-industry</td>\n",
       "      <td>1235</td>\n",
       "      <td>11-0000</td>\n",
       "      <td>Management Occupations</td>\n",
       "      <td>...</td>\n",
       "      <td>58.7</td>\n",
       "      <td>82.5</td>\n",
       "      <td>#</td>\n",
       "      <td>57010</td>\n",
       "      <td>79900</td>\n",
       "      <td>122090</td>\n",
       "      <td>171610</td>\n",
       "      <td>#</td>\n",
       "      <td>NaN</td>\n",
       "      <td>NaN</td>\n",
       "    </tr>\n",
       "    <tr>\n",
       "      <th>2</th>\n",
       "      <td>99</td>\n",
       "      <td>U.S.</td>\n",
       "      <td>1</td>\n",
       "      <td>US</td>\n",
       "      <td>000000</td>\n",
       "      <td>Cross-industry</td>\n",
       "      <td>cross-industry</td>\n",
       "      <td>1235</td>\n",
       "      <td>11-1000</td>\n",
       "      <td>Top Executives</td>\n",
       "      <td>...</td>\n",
       "      <td>50.48</td>\n",
       "      <td>81.01</td>\n",
       "      <td>#</td>\n",
       "      <td>47510</td>\n",
       "      <td>68800</td>\n",
       "      <td>104990</td>\n",
       "      <td>168490</td>\n",
       "      <td>#</td>\n",
       "      <td>NaN</td>\n",
       "      <td>NaN</td>\n",
       "    </tr>\n",
       "    <tr>\n",
       "      <th>3</th>\n",
       "      <td>99</td>\n",
       "      <td>U.S.</td>\n",
       "      <td>1</td>\n",
       "      <td>US</td>\n",
       "      <td>000000</td>\n",
       "      <td>Cross-industry</td>\n",
       "      <td>cross-industry</td>\n",
       "      <td>1235</td>\n",
       "      <td>11-1010</td>\n",
       "      <td>Chief Executives</td>\n",
       "      <td>...</td>\n",
       "      <td>99.24</td>\n",
       "      <td>#</td>\n",
       "      <td>#</td>\n",
       "      <td>73710</td>\n",
       "      <td>126080</td>\n",
       "      <td>206420</td>\n",
       "      <td>#</td>\n",
       "      <td>#</td>\n",
       "      <td>NaN</td>\n",
       "      <td>NaN</td>\n",
       "    </tr>\n",
       "    <tr>\n",
       "      <th>4</th>\n",
       "      <td>99</td>\n",
       "      <td>U.S.</td>\n",
       "      <td>1</td>\n",
       "      <td>US</td>\n",
       "      <td>000000</td>\n",
       "      <td>Cross-industry</td>\n",
       "      <td>cross-industry</td>\n",
       "      <td>1235</td>\n",
       "      <td>11-1011</td>\n",
       "      <td>Chief Executives</td>\n",
       "      <td>...</td>\n",
       "      <td>99.24</td>\n",
       "      <td>#</td>\n",
       "      <td>#</td>\n",
       "      <td>73710</td>\n",
       "      <td>126080</td>\n",
       "      <td>206420</td>\n",
       "      <td>#</td>\n",
       "      <td>#</td>\n",
       "      <td>NaN</td>\n",
       "      <td>NaN</td>\n",
       "    </tr>\n",
       "  </tbody>\n",
       "</table>\n",
       "<p>5 rows × 32 columns</p>\n",
       "</div>"
      ],
      "text/plain": [
       "   AREA AREA_TITLE  AREA_TYPE PRIM_STATE   NAICS     NAICS_TITLE  \\\n",
       "0    99       U.S.          1         US  000000  Cross-industry   \n",
       "1    99       U.S.          1         US  000000  Cross-industry   \n",
       "2    99       U.S.          1         US  000000  Cross-industry   \n",
       "3    99       U.S.          1         US  000000  Cross-industry   \n",
       "4    99       U.S.          1         US  000000  Cross-industry   \n",
       "\n",
       "          I_GROUP  OWN_CODE OCC_CODE               OCC_TITLE  ... H_MEDIAN  \\\n",
       "0  cross-industry      1235  00-0000         All Occupations  ...     23.8   \n",
       "1  cross-industry      1235  11-0000  Management Occupations  ...     58.7   \n",
       "2  cross-industry      1235  11-1000          Top Executives  ...    50.48   \n",
       "3  cross-industry      1235  11-1010        Chief Executives  ...    99.24   \n",
       "4  cross-industry      1235  11-1011        Chief Executives  ...    99.24   \n",
       "\n",
       "  H_PCT75 H_PCT90 A_PCT10 A_PCT25 A_MEDIAN A_PCT75 A_PCT90 ANNUAL HOURLY  \n",
       "0   37.89   60.44   29990   36730    49500   78810  125720    NaN    NaN  \n",
       "1    82.5       #   57010   79900   122090  171610       #    NaN    NaN  \n",
       "2   81.01       #   47510   68800   104990  168490       #    NaN    NaN  \n",
       "3       #       #   73710  126080   206420       #       #    NaN    NaN  \n",
       "4       #       #   73710  126080   206420       #       #    NaN    NaN  \n",
       "\n",
       "[5 rows x 32 columns]"
      ]
     },
     "execution_count": 1,
     "metadata": {},
     "output_type": "execute_result"
    }
   ],
   "source": [
    "import pandas as pd\n",
    "\n",
    "# Load the dataset\n",
    "file_path = \"all_data_M_2024.xlsx\"\n",
    "bls_df = pd.read_excel(file_path)\n",
    "\n",
    "# Preview first few rows\n",
    "bls_df.head()"
   ]
  },
  {
   "cell_type": "code",
   "execution_count": 2,
   "id": "2b9fe476-b1a4-40cd-9035-c391455d6a40",
   "metadata": {},
   "outputs": [
    {
     "data": {
      "text/plain": [
       "['All May 2024 data', 'Field Descriptions', 'UpdateTime', 'Filler']"
      ]
     },
     "execution_count": 2,
     "metadata": {},
     "output_type": "execute_result"
    }
   ],
   "source": [
    "# List all sheet names\n",
    "pd.ExcelFile(file_path).sheet_names"
   ]
  },
  {
   "cell_type": "code",
   "execution_count": 3,
   "id": "f6a721bf-28b9-4810-a8e5-c738e0838bb9",
   "metadata": {},
   "outputs": [
    {
     "name": "stdout",
     "output_type": "stream",
     "text": [
      "<class 'pandas.core.frame.DataFrame'>\n",
      "RangeIndex: 409517 entries, 0 to 409516\n",
      "Data columns (total 32 columns):\n",
      " #   Column        Non-Null Count   Dtype \n",
      "---  ------        --------------   ----- \n",
      " 0   AREA          409517 non-null  int64 \n",
      " 1   AREA_TITLE    409517 non-null  object\n",
      " 2   AREA_TYPE     409517 non-null  int64 \n",
      " 3   PRIM_STATE    409517 non-null  object\n",
      " 4   NAICS         409517 non-null  object\n",
      " 5   NAICS_TITLE   409517 non-null  object\n",
      " 6   I_GROUP       409517 non-null  object\n",
      " 7   OWN_CODE      409517 non-null  int64 \n",
      " 8   OCC_CODE      409517 non-null  object\n",
      " 9   OCC_TITLE     409517 non-null  object\n",
      " 10  O_GROUP       409517 non-null  object\n",
      " 11  TOT_EMP       409517 non-null  object\n",
      " 12  EMP_PRSE      409517 non-null  object\n",
      " 13  JOBS_1000     231693 non-null  object\n",
      " 14  LOC_QUOTIENT  231693 non-null  object\n",
      " 15  PCT_TOTAL     170758 non-null  object\n",
      " 16  PCT_RPT       170758 non-null  object\n",
      " 17  H_MEAN        409517 non-null  object\n",
      " 18  A_MEAN        409517 non-null  object\n",
      " 19  MEAN_PRSE     409517 non-null  object\n",
      " 20  H_PCT10       409517 non-null  object\n",
      " 21  H_PCT25       409517 non-null  object\n",
      " 22  H_MEDIAN      409517 non-null  object\n",
      " 23  H_PCT75       409517 non-null  object\n",
      " 24  H_PCT90       409517 non-null  object\n",
      " 25  A_PCT10       409517 non-null  object\n",
      " 26  A_PCT25       409517 non-null  object\n",
      " 27  A_MEDIAN      409517 non-null  object\n",
      " 28  A_PCT75       409517 non-null  object\n",
      " 29  A_PCT90       409517 non-null  object\n",
      " 30  ANNUAL        16387 non-null   object\n",
      " 31  HOURLY        776 non-null     object\n",
      "dtypes: int64(3), object(29)\n",
      "memory usage: 100.0+ MB\n"
     ]
    }
   ],
   "source": [
    "bls_df.info()"
   ]
  },
  {
   "cell_type": "markdown",
   "id": "51ab0866-51c6-46e9-bc58-e05f1342b777",
   "metadata": {},
   "source": [
    "### Understanding OCC_CODE Categories (SOC Major Groups)\n",
    "\n",
    "The `OCC_CODE` field in the BLS dataset follows the **Standard Occupational Classification (SOC)** system. The **first two digits** indicate the **major occupational group**. These categories help classify and analyze labor data across all industries.\n",
    "\n",
    "Below is the complete list of **23 SOC Major Groups**, along with example roles and general fields:\n",
    "\n",
    "| OCC_CODE Prefix | Major Occupational Group                                      | Common Fields / Example Roles                            |\n",
    "|-----------------|---------------------------------------------------------------|-----------------------------------------------------------|\n",
    "| **11**          | Management Occupations                                        | Executives, Project Managers, Operations Directors        |\n",
    "| **13**          | Business and Financial Operations Occupations                 | Financial Analysts, HR Specialists, Compliance Officers   |\n",
    "| **15**          | Computer and Mathematical Occupations                         | Software Developers, Data Scientists, Statisticians       |\n",
    "| **17**          | Architecture and Engineering Occupations                      | Civil Engineers, Mechanical Engineers, Systems Architects |\n",
    "| **19**          | Life, Physical, and Social Science Occupations                | Chemists, Economists, Environmental Scientists            |\n",
    "| **21**          | Community and Social Service Occupations                      | Social Workers, Counselors, Health Educators              |\n",
    "| **23**          | Legal Occupations                                              | Lawyers, Paralegals, Judges                               |\n",
    "| **25**          | Education, Training, and Library Occupations                  | Teachers, Librarians, Instructional Designers             |\n",
    "| **27**          | Arts, Design, Entertainment, Sports, and Media Occupations    | UX Designers, Journalists, Musicians                      |\n",
    "| **29**          | Healthcare Practitioners and Technical Occupations            | Physicians, Registered Nurses, Medical Technologists      |\n",
    "| **31**          | Healthcare Support Occupations                                | Medical Assistants, Home Health Aides                     |\n",
    "| **33**          | Protective Service Occupations                                | Police Officers, Firefighters, Security Guards            |\n",
    "| **35**          | Food Preparation and Serving Related Occupations              | Chefs, Cooks, Servers                                     |\n",
    "| **37**          | Building and Grounds Cleaning and Maintenance Occupations     | Janitors, Groundskeepers, Pest Control Workers            |\n",
    "| **39**          | Personal Care and Service Occupations                         | Childcare Workers, Hairstylists, Fitness Trainers         |\n",
    "| **41**          | Sales and Related Occupations                                 | Retail Salespersons, Real Estate Agents, Sales Engineers  |\n",
    "| **43**          | Office and Administrative Support Occupations                 | Administrative Assistants, Clerks, Dispatchers            |\n",
    "| **45**          | Farming, Fishing, and Forestry Occupations                    | Agricultural Workers, Fishers, Loggers                    |\n",
    "| **47**          | Construction and Extraction Occupations                       | Carpenters, Electricians, Heavy Equipment Operators        |\n",
    "| **49**          | Installation, Maintenance, and Repair Occupations             | Mechanics, HVAC Technicians, IT Repair Specialists        |\n",
    "| **51**          | Production Occupations                                        | Assemblers, Machinists, Tool Operators                    |\n",
    "| **53**          | Transportation and Material Moving Occupations                | Truck Drivers, Pilots, Package Handlers                   |\n",
    "| **55**          | Military Specific Occupations                                 | Enlisted Personnel, Officers, Combat Roles                |\n",
    "\n",
    "This classification is helpful for:\n",
    "- Grouping similar occupations\n",
    "- Understanding trends by category\n",
    "- Feature engineering (e.g., using `OCC_MAJOR` in modeling)\n",
    "\n",
    "**Reference**: [Bureau of Labor Statistics – SOC Major Groups](https://www.bls.gov/soc/2018/major_groups.htm)"
   ]
  },
  {
   "cell_type": "markdown",
   "id": "f6a2ae9e-4f6c-43d5-a1d4-275b28f7c3a7",
   "metadata": {},
   "source": [
    "### Combined Filtering by SOC Group and Tech Keywords\n",
    "\n",
    "To create a clean, tech-focused dataset, we applied two layers of filtering:\n",
    "1. **SOC Group Filtering**: We retained only major occupation groups relevant to tech, such as Computer & Mathematical, Engineering, and IT Management (OCC_CODE prefixes 11, 13, 15, 17, etc.).\n",
    "2. **Keyword Filtering**: We further filtered job titles using tech-related keywords such as “developer,” “engineer,” “data,” “IT,” and “cyber.”\n",
    "\n",
    "This dual-filter approach ensures our model is trained on relevant job types while excluding unrelated roles from other industries."
   ]
  },
  {
   "cell_type": "code",
   "execution_count": 8,
   "id": "d3987de5-8a3f-468a-9b59-0beb31ba8943",
   "metadata": {},
   "outputs": [],
   "source": [
    "import re\n",
    "\n",
    "# List of keywords commonly found in tech-related occupations\n",
    "tech_keywords = r'\\b(?:software|developer|computer|data|it|information|technology|programmer|engineer|web|cyber|network|systems|cloud|security|analyst|devops|ai|ml|machine learning)\\b'"
   ]
  },
  {
   "cell_type": "code",
   "execution_count": 16,
   "id": "6e010fc0-9f46-41bf-9b45-d4ec64db3b14",
   "metadata": {},
   "outputs": [
    {
     "name": "stdout",
     "output_type": "stream",
     "text": [
      "Filtered down to 17398 rows after applying SOC group and keyword filters.\n"
     ]
    }
   ],
   "source": [
    "# Extract OCC_MAJOR (first 2 digits of OCC_CODE)\n",
    "bls_df['OCC_MAJOR'] = bls_df['OCC_CODE'].astype(str).str[:2]\n",
    "\n",
    "# Keep only rows where OCC_MAJOR is tech-relevant\n",
    "tech_major_codes = ['11', '13', '15', '17', '19', '27', '41', '49', '51']\n",
    "filtered_by_group = bls_df[bls_df['OCC_MAJOR'].isin(tech_major_codes)]\n",
    "\n",
    "# Now apply keyword filtering on OCC_TITLE\n",
    "filtered_tech_df = filtered_by_group[\n",
    "    filtered_by_group['OCC_TITLE'].str.lower().str.contains(tech_keywords, regex=True, na=False)\n",
    "]\n",
    "\n",
    "# Exclude unrelated titles manually\n",
    "excluded_keywords = r'\\b(?:assembler|rigging|machinist|mechanic|welder|fabricator|operator|repairer|driller|inspector)\\b'\n",
    "\n",
    "filtered_tech_df = filtered_tech_df[\n",
    "    ~filtered_tech_df['OCC_TITLE'].str.lower().str.contains(excluded_keywords, regex=True, na=False)\n",
    "]\n",
    "\n",
    "print(f\"Filtered down to {filtered_tech_df.shape[0]} rows after applying SOC group and keyword filters.\")"
   ]
  },
  {
   "cell_type": "code",
   "execution_count": 17,
   "id": "214720d4-6a5d-482d-946c-bbec026e6628",
   "metadata": {},
   "outputs": [
    {
     "data": {
      "text/html": [
       "<div>\n",
       "<style scoped>\n",
       "    .dataframe tbody tr th:only-of-type {\n",
       "        vertical-align: middle;\n",
       "    }\n",
       "\n",
       "    .dataframe tbody tr th {\n",
       "        vertical-align: top;\n",
       "    }\n",
       "\n",
       "    .dataframe thead th {\n",
       "        text-align: right;\n",
       "    }\n",
       "</style>\n",
       "<table border=\"1\" class=\"dataframe\">\n",
       "  <thead>\n",
       "    <tr style=\"text-align: right;\">\n",
       "      <th></th>\n",
       "      <th>AREA</th>\n",
       "      <th>AREA_TITLE</th>\n",
       "      <th>AREA_TYPE</th>\n",
       "      <th>PRIM_STATE</th>\n",
       "      <th>NAICS</th>\n",
       "      <th>NAICS_TITLE</th>\n",
       "      <th>I_GROUP</th>\n",
       "      <th>OWN_CODE</th>\n",
       "      <th>OCC_CODE</th>\n",
       "      <th>OCC_TITLE</th>\n",
       "      <th>...</th>\n",
       "      <th>H_PCT75</th>\n",
       "      <th>H_PCT90</th>\n",
       "      <th>A_PCT10</th>\n",
       "      <th>A_PCT25</th>\n",
       "      <th>A_MEDIAN</th>\n",
       "      <th>A_PCT75</th>\n",
       "      <th>A_PCT90</th>\n",
       "      <th>ANNUAL</th>\n",
       "      <th>HOURLY</th>\n",
       "      <th>OCC_MAJOR</th>\n",
       "    </tr>\n",
       "  </thead>\n",
       "  <tbody>\n",
       "    <tr>\n",
       "      <th>22</th>\n",
       "      <td>99</td>\n",
       "      <td>U.S.</td>\n",
       "      <td>1</td>\n",
       "      <td>US</td>\n",
       "      <td>000000</td>\n",
       "      <td>Cross-industry</td>\n",
       "      <td>cross-industry</td>\n",
       "      <td>1235</td>\n",
       "      <td>11-3020</td>\n",
       "      <td>Computer and Information Systems Managers</td>\n",
       "      <td>...</td>\n",
       "      <td>103.95</td>\n",
       "      <td>#</td>\n",
       "      <td>104450</td>\n",
       "      <td>134350</td>\n",
       "      <td>171200</td>\n",
       "      <td>216220</td>\n",
       "      <td>#</td>\n",
       "      <td>NaN</td>\n",
       "      <td>NaN</td>\n",
       "      <td>11</td>\n",
       "    </tr>\n",
       "    <tr>\n",
       "      <th>23</th>\n",
       "      <td>99</td>\n",
       "      <td>U.S.</td>\n",
       "      <td>1</td>\n",
       "      <td>US</td>\n",
       "      <td>000000</td>\n",
       "      <td>Cross-industry</td>\n",
       "      <td>cross-industry</td>\n",
       "      <td>1235</td>\n",
       "      <td>11-3021</td>\n",
       "      <td>Computer and Information Systems Managers</td>\n",
       "      <td>...</td>\n",
       "      <td>103.95</td>\n",
       "      <td>#</td>\n",
       "      <td>104450</td>\n",
       "      <td>134350</td>\n",
       "      <td>171200</td>\n",
       "      <td>216220</td>\n",
       "      <td>#</td>\n",
       "      <td>NaN</td>\n",
       "      <td>NaN</td>\n",
       "      <td>11</td>\n",
       "    </tr>\n",
       "    <tr>\n",
       "      <th>132</th>\n",
       "      <td>99</td>\n",
       "      <td>U.S.</td>\n",
       "      <td>1</td>\n",
       "      <td>US</td>\n",
       "      <td>000000</td>\n",
       "      <td>Cross-industry</td>\n",
       "      <td>cross-industry</td>\n",
       "      <td>1235</td>\n",
       "      <td>15-0000</td>\n",
       "      <td>Computer and Mathematical Occupations</td>\n",
       "      <td>...</td>\n",
       "      <td>70.51</td>\n",
       "      <td>86.59</td>\n",
       "      <td>54100</td>\n",
       "      <td>76350</td>\n",
       "      <td>105850</td>\n",
       "      <td>146650</td>\n",
       "      <td>180110</td>\n",
       "      <td>NaN</td>\n",
       "      <td>NaN</td>\n",
       "      <td>15</td>\n",
       "    </tr>\n",
       "    <tr>\n",
       "      <th>133</th>\n",
       "      <td>99</td>\n",
       "      <td>U.S.</td>\n",
       "      <td>1</td>\n",
       "      <td>US</td>\n",
       "      <td>000000</td>\n",
       "      <td>Cross-industry</td>\n",
       "      <td>cross-industry</td>\n",
       "      <td>1235</td>\n",
       "      <td>15-1200</td>\n",
       "      <td>Computer Occupations</td>\n",
       "      <td>...</td>\n",
       "      <td>70.78</td>\n",
       "      <td>86.59</td>\n",
       "      <td>53340</td>\n",
       "      <td>76180</td>\n",
       "      <td>105990</td>\n",
       "      <td>147220</td>\n",
       "      <td>180110</td>\n",
       "      <td>NaN</td>\n",
       "      <td>NaN</td>\n",
       "      <td>15</td>\n",
       "    </tr>\n",
       "    <tr>\n",
       "      <th>134</th>\n",
       "      <td>99</td>\n",
       "      <td>U.S.</td>\n",
       "      <td>1</td>\n",
       "      <td>US</td>\n",
       "      <td>000000</td>\n",
       "      <td>Cross-industry</td>\n",
       "      <td>cross-industry</td>\n",
       "      <td>1235</td>\n",
       "      <td>15-1210</td>\n",
       "      <td>Computer and Information Analysts</td>\n",
       "      <td>...</td>\n",
       "      <td>65.96</td>\n",
       "      <td>81.76</td>\n",
       "      <td>64450</td>\n",
       "      <td>82550</td>\n",
       "      <td>106890</td>\n",
       "      <td>137190</td>\n",
       "      <td>170060</td>\n",
       "      <td>NaN</td>\n",
       "      <td>NaN</td>\n",
       "      <td>15</td>\n",
       "    </tr>\n",
       "  </tbody>\n",
       "</table>\n",
       "<p>5 rows × 33 columns</p>\n",
       "</div>"
      ],
      "text/plain": [
       "     AREA AREA_TITLE  AREA_TYPE PRIM_STATE   NAICS     NAICS_TITLE  \\\n",
       "22     99       U.S.          1         US  000000  Cross-industry   \n",
       "23     99       U.S.          1         US  000000  Cross-industry   \n",
       "132    99       U.S.          1         US  000000  Cross-industry   \n",
       "133    99       U.S.          1         US  000000  Cross-industry   \n",
       "134    99       U.S.          1         US  000000  Cross-industry   \n",
       "\n",
       "            I_GROUP  OWN_CODE OCC_CODE  \\\n",
       "22   cross-industry      1235  11-3020   \n",
       "23   cross-industry      1235  11-3021   \n",
       "132  cross-industry      1235  15-0000   \n",
       "133  cross-industry      1235  15-1200   \n",
       "134  cross-industry      1235  15-1210   \n",
       "\n",
       "                                     OCC_TITLE  ... H_PCT75 H_PCT90 A_PCT10  \\\n",
       "22   Computer and Information Systems Managers  ...  103.95       #  104450   \n",
       "23   Computer and Information Systems Managers  ...  103.95       #  104450   \n",
       "132      Computer and Mathematical Occupations  ...   70.51   86.59   54100   \n",
       "133                       Computer Occupations  ...   70.78   86.59   53340   \n",
       "134          Computer and Information Analysts  ...   65.96   81.76   64450   \n",
       "\n",
       "    A_PCT25 A_MEDIAN A_PCT75 A_PCT90 ANNUAL HOURLY OCC_MAJOR  \n",
       "22   134350   171200  216220       #    NaN    NaN        11  \n",
       "23   134350   171200  216220       #    NaN    NaN        11  \n",
       "132   76350   105850  146650  180110    NaN    NaN        15  \n",
       "133   76180   105990  147220  180110    NaN    NaN        15  \n",
       "134   82550   106890  137190  170060    NaN    NaN        15  \n",
       "\n",
       "[5 rows x 33 columns]"
      ]
     },
     "execution_count": 17,
     "metadata": {},
     "output_type": "execute_result"
    }
   ],
   "source": [
    "filtered_tech_df.head()"
   ]
  },
  {
   "cell_type": "code",
   "execution_count": 18,
   "id": "5f3fda33-691c-4ab9-b053-2fdc9e52a2a7",
   "metadata": {},
   "outputs": [
    {
     "name": "stdout",
     "output_type": "stream",
     "text": [
      "<class 'pandas.core.frame.DataFrame'>\n",
      "Index: 17398 entries, 22 to 406768\n",
      "Data columns (total 33 columns):\n",
      " #   Column        Non-Null Count  Dtype \n",
      "---  ------        --------------  ----- \n",
      " 0   AREA          17398 non-null  int64 \n",
      " 1   AREA_TITLE    17398 non-null  object\n",
      " 2   AREA_TYPE     17398 non-null  int64 \n",
      " 3   PRIM_STATE    17398 non-null  object\n",
      " 4   NAICS         17398 non-null  object\n",
      " 5   NAICS_TITLE   17398 non-null  object\n",
      " 6   I_GROUP       17398 non-null  object\n",
      " 7   OWN_CODE      17398 non-null  int64 \n",
      " 8   OCC_CODE      17398 non-null  object\n",
      " 9   OCC_TITLE     17398 non-null  object\n",
      " 10  O_GROUP       17398 non-null  object\n",
      " 11  TOT_EMP       17398 non-null  object\n",
      " 12  EMP_PRSE      17398 non-null  object\n",
      " 13  JOBS_1000     8321 non-null   object\n",
      " 14  LOC_QUOTIENT  8321 non-null   object\n",
      " 15  PCT_TOTAL     8889 non-null   object\n",
      " 16  PCT_RPT       8889 non-null   object\n",
      " 17  H_MEAN        17398 non-null  object\n",
      " 18  A_MEAN        17398 non-null  object\n",
      " 19  MEAN_PRSE     17398 non-null  object\n",
      " 20  H_PCT10       17398 non-null  object\n",
      " 21  H_PCT25       17398 non-null  object\n",
      " 22  H_MEDIAN      17398 non-null  object\n",
      " 23  H_PCT75       17398 non-null  object\n",
      " 24  H_PCT90       17398 non-null  object\n",
      " 25  A_PCT10       17398 non-null  object\n",
      " 26  A_PCT25       17398 non-null  object\n",
      " 27  A_MEDIAN      17398 non-null  object\n",
      " 28  A_PCT75       17398 non-null  object\n",
      " 29  A_PCT90       17398 non-null  object\n",
      " 30  ANNUAL        0 non-null      object\n",
      " 31  HOURLY        0 non-null      object\n",
      " 32  OCC_MAJOR     17398 non-null  object\n",
      "dtypes: int64(3), object(30)\n",
      "memory usage: 4.5+ MB\n"
     ]
    }
   ],
   "source": [
    "filtered_tech_df.info()"
   ]
  },
  {
   "cell_type": "code",
   "execution_count": 19,
   "id": "a8a0953f-94b3-4990-a432-ca97dae9d8a5",
   "metadata": {},
   "outputs": [
    {
     "data": {
      "text/plain": [
       "29"
      ]
     },
     "execution_count": 19,
     "metadata": {},
     "output_type": "execute_result"
    }
   ],
   "source": [
    "filtered_tech_df['OCC_TITLE'].nunique()"
   ]
  },
  {
   "cell_type": "code",
   "execution_count": 20,
   "id": "9b18a32b-7091-43bf-b2ac-c28da2090a76",
   "metadata": {},
   "outputs": [
    {
     "data": {
      "text/plain": [
       "['Computer Hardware Engineers',\n",
       " 'Computer Network Architects',\n",
       " 'Computer Network Support Specialists',\n",
       " 'Computer Numerically Controlled Tool Operators',\n",
       " 'Computer Numerically Controlled Tool Operators and Programmers',\n",
       " 'Computer Numerically Controlled Tool Programmers',\n",
       " 'Computer Occupations',\n",
       " 'Computer Occupations, All Other',\n",
       " 'Computer Programmers',\n",
       " 'Computer Support Specialists',\n",
       " 'Computer Systems Analysts',\n",
       " 'Computer User Support Specialists',\n",
       " 'Computer and Information Analysts',\n",
       " 'Computer and Information Research Scientists',\n",
       " 'Computer and Information Systems Managers',\n",
       " 'Computer and Mathematical Occupations',\n",
       " 'Computer, Automated Teller, and Office Machine Repairers',\n",
       " 'Data Scientists',\n",
       " 'Database and Network Administrators and Architects',\n",
       " 'Electronics Engineers, Except Computer']"
      ]
     },
     "execution_count": 20,
     "metadata": {},
     "output_type": "execute_result"
    }
   ],
   "source": [
    "sorted(filtered_tech_df['OCC_TITLE'].dropna().unique())[:20]"
   ]
  },
  {
   "cell_type": "markdown",
   "id": "27fcfd65-04af-489b-8bd0-c2cb6a5af06f",
   "metadata": {},
   "source": [
    "### Identifying Missing Values\n",
    "\n",
    "Before moving forward with modeling, it's important to understand where missing data exists in our tech-filtered dataset. This step helps us decide whether to drop rows, impute values, or take other precautions to avoid skewed results."
   ]
  },
  {
   "cell_type": "code",
   "execution_count": 21,
   "id": "f6ea5561-6ef6-4212-b01f-35fbbbfcf634",
   "metadata": {},
   "outputs": [
    {
     "data": {
      "text/plain": [
       "HOURLY          17398\n",
       "ANNUAL          17398\n",
       "LOC_QUOTIENT     9077\n",
       "JOBS_1000        9077\n",
       "PCT_RPT          8509\n",
       "PCT_TOTAL        8509\n",
       "dtype: int64"
      ]
     },
     "execution_count": 21,
     "metadata": {},
     "output_type": "execute_result"
    }
   ],
   "source": [
    "# Count missing values in each column\n",
    "missing_summary = filtered_tech_df.isnull().sum().sort_values(ascending=False)\n",
    "missing_summary[missing_summary > 0]"
   ]
  },
  {
   "cell_type": "markdown",
   "id": "b612d25a-24b4-42fc-b812-3cd767e9626c",
   "metadata": {},
   "source": [
    "### Missing Value Summary\n",
    "\n",
    "We found that a handful of columns have missing values, most notably:\n",
    "- `HOURLY` and `ANNUAL`: missing in **100%** of rows (these may be placeholder or deprecated columns)\n",
    "- `LOC_QUOTIENT`, `JOBS_1000`, `PCT_RPT`, and `PCT_TOTAL`: missing in ~50% of rows\n",
    "\n",
    "These fields are primarily used for **contextual labor metrics** rather than salary prediction and may be candidates for removal."
   ]
  },
  {
   "cell_type": "code",
   "execution_count": 22,
   "id": "700b586a-c3f9-4591-8696-73c796e6d618",
   "metadata": {},
   "outputs": [
    {
     "data": {
      "text/plain": [
       "HOURLY          100.000000\n",
       "ANNUAL          100.000000\n",
       "LOC_QUOTIENT     52.172664\n",
       "JOBS_1000        52.172664\n",
       "PCT_RPT          48.907920\n",
       "PCT_TOTAL        48.907920\n",
       "dtype: float64"
      ]
     },
     "execution_count": 22,
     "metadata": {},
     "output_type": "execute_result"
    }
   ],
   "source": [
    "# Calculate percentage of missing values for each column\n",
    "missing_percent = (filtered_tech_df.isnull().mean() * 100).sort_values(ascending=False)\n",
    "missing_percent[missing_percent > 0]"
   ]
  },
  {
   "cell_type": "markdown",
   "id": "141d64cb-4861-4cf5-9cbc-95a38353e311",
   "metadata": {},
   "source": [
    "### Interpreting Missing Value Percentages\n",
    "\n",
    "The `HOURLY` and `ANNUAL` columns are entirely empty (100% missing), suggesting they are either deprecated or irrelevant for this dataset release. The `LOC_QUOTIENT`, `JOBS_1000`, `PCT_RPT`, and `PCT_TOTAL` fields are missing in roughly 50% of the data and are mostly auxiliary labor market indicators.\n",
    "\n",
    "These columns are not directly tied to our salary prediction target (`A_MEDIAN`), so removing them — or the rows they appear in — is unlikely to significantly impact the core model performance."
   ]
  },
  {
   "cell_type": "code",
   "execution_count": 23,
   "id": "25077df0-f391-457a-8bb3-a9a6384105d3",
   "metadata": {},
   "outputs": [
    {
     "name": "stdout",
     "output_type": "stream",
     "text": [
      "Original: 17398 rows\n",
      "After dropping nulls: 0 rows\n",
      "Rows dropped: 17398 (100.00%)\n"
     ]
    }
   ],
   "source": [
    "# Store original row count\n",
    "original_count = filtered_tech_df.shape[0]\n",
    "\n",
    "# Drop rows with any missing values\n",
    "tech_df_cleaned = filtered_tech_df.dropna()\n",
    "\n",
    "# Report how much data was dropped\n",
    "cleaned_count = tech_df_cleaned.shape[0]\n",
    "print(f\"Original: {original_count} rows\")\n",
    "print(f\"After dropping nulls: {cleaned_count} rows\")\n",
    "print(f\"Rows dropped: {original_count - cleaned_count} ({(original_count - cleaned_count)/original_count:.2%})\")"
   ]
  },
  {
   "cell_type": "markdown",
   "id": "03624a7f-c785-49b5-9cc7-1439e1b21468",
   "metadata": {},
   "source": [
    "### Strategy Update: Column-Wise Cleaning First\n",
    "\n",
    "Dropping all rows with missing values would eliminate the entire dataset. This is because two unused columns — `HOURLY` and `ANNUAL` — are 100% missing.\n",
    "\n",
    "Since these columns are not used in our salary prediction task, we will drop them from the dataset first. This allows us to then evaluate missing values in the remaining, more relevant fields without losing all our data."
   ]
  },
  {
   "cell_type": "code",
   "execution_count": 24,
   "id": "04f64a43-c729-4cef-812b-08b415a8432b",
   "metadata": {},
   "outputs": [
    {
     "data": {
      "text/plain": [
       "AREA               0\n",
       "AREA_TITLE         0\n",
       "AREA_TYPE          0\n",
       "PRIM_STATE         0\n",
       "NAICS              0\n",
       "NAICS_TITLE        0\n",
       "I_GROUP            0\n",
       "OWN_CODE           0\n",
       "OCC_CODE           0\n",
       "OCC_TITLE          0\n",
       "O_GROUP            0\n",
       "TOT_EMP            0\n",
       "EMP_PRSE           0\n",
       "JOBS_1000       9077\n",
       "LOC_QUOTIENT    9077\n",
       "PCT_TOTAL       8509\n",
       "PCT_RPT         8509\n",
       "H_MEAN             0\n",
       "A_MEAN             0\n",
       "MEAN_PRSE          0\n",
       "H_PCT10            0\n",
       "H_PCT25            0\n",
       "H_MEDIAN           0\n",
       "H_PCT75            0\n",
       "H_PCT90            0\n",
       "A_PCT10            0\n",
       "A_PCT25            0\n",
       "A_MEDIAN           0\n",
       "A_PCT75            0\n",
       "A_PCT90            0\n",
       "OCC_MAJOR          0\n",
       "dtype: int64"
      ]
     },
     "execution_count": 24,
     "metadata": {},
     "output_type": "execute_result"
    }
   ],
   "source": [
    "# Drop unused columns that are 100% missing\n",
    "tech_df_cleaned = filtered_tech_df.drop(columns=['HOURLY', 'ANNUAL'])\n",
    "\n",
    "# Check remaining missing values\n",
    "tech_df_cleaned.isnull().sum()"
   ]
  },
  {
   "cell_type": "markdown",
   "id": "40529e04-7c67-49ca-a8df-1dcbc2d2f469",
   "metadata": {},
   "source": [
    "### Final Cleaning: Dropping Contextual Columns with Missing Values\n",
    "\n",
    "After removing the 100% missing columns (`HOURLY`, `ANNUAL`), we reviewed the remaining null values. Only four columns still had missing data: `JOBS_1000`, `LOC_QUOTIENT`, `PCT_TOTAL`, and `PCT_RPT`.\n",
    "\n",
    "These are contextual labor metrics not required for our salary prediction task. To preserve data integrity and avoid row-level loss, we opted to drop these columns rather than impute or remove rows."
   ]
  },
  {
   "cell_type": "code",
   "execution_count": 25,
   "id": "d4ace737-c366-4bae-bc7a-867974a7cecb",
   "metadata": {},
   "outputs": [
    {
     "data": {
      "text/plain": [
       "0"
      ]
     },
     "execution_count": 25,
     "metadata": {},
     "output_type": "execute_result"
    }
   ],
   "source": [
    "# Drop remaining columns with missing values (not essential for modeling)\n",
    "cols_to_drop = ['JOBS_1000', 'LOC_QUOTIENT', 'PCT_TOTAL', 'PCT_RPT']\n",
    "tech_df_cleaned = tech_df_cleaned.drop(columns=cols_to_drop)\n",
    "\n",
    "# Confirm no missing values remain\n",
    "tech_df_cleaned.isnull().sum().sum()"
   ]
  },
  {
   "cell_type": "markdown",
   "id": "c3c5d9d5-7552-4d1c-a63c-d82257f17f79",
   "metadata": {},
   "source": [
    "### Validating Dataset Integrity After Cleaning\n",
    "\n",
    "Now that we’ve dropped non-essential columns with missing data, we compare the cleaned dataset to the original filtered version. We focus on the distribution of salaries and the diversity of job titles to ensure we didn’t unintentionally lose valuable information."
   ]
  },
  {
   "cell_type": "code",
   "execution_count": 26,
   "id": "a81e5923-cc24-4eff-bcc1-703e8019dfb2",
   "metadata": {},
   "outputs": [
    {
     "name": "stdout",
     "output_type": "stream",
     "text": [
      "Unique job titles before cleaning: 29\n",
      "Unique job titles after cleaning: 29\n"
     ]
    }
   ],
   "source": [
    "print(\"Unique job titles before cleaning:\", filtered_tech_df['OCC_TITLE'].nunique())\n",
    "print(\"Unique job titles after cleaning:\", tech_df_cleaned['OCC_TITLE'].nunique())"
   ]
  },
  {
   "cell_type": "code",
   "execution_count": 28,
   "id": "318c2cdb-474d-4628-ac88-b3bdb84be5f6",
   "metadata": {},
   "outputs": [],
   "source": [
    "# Ensure A_MEDIAN is numeric\n",
    "filtered_tech_df['A_MEDIAN'] = pd.to_numeric(filtered_tech_df['A_MEDIAN'], errors='coerce')\n",
    "tech_df_cleaned['A_MEDIAN'] = pd.to_numeric(tech_df_cleaned['A_MEDIAN'], errors='coerce')"
   ]
  },
  {
   "cell_type": "code",
   "execution_count": 29,
   "id": "6f17163a-f28e-4fa4-887d-379ad9385ffe",
   "metadata": {},
   "outputs": [
    {
     "data": {
      "image/png": "[encoded data removed]",
      "text/plain": [
       "<Figure size 1000x500 with 1 Axes>"
      ]
     },
     "metadata": {},
     "output_type": "display_data"
    }
   ],
   "source": [
    "import matplotlib.pyplot as plt\n",
    "import seaborn as sns\n",
    "\n",
    "plt.figure(figsize=(10, 5))\n",
    "sns.kdeplot(filtered_tech_df['A_MEDIAN'].dropna(), label='Before Cleaning')\n",
    "sns.kdeplot(tech_df_cleaned['A_MEDIAN'].dropna(), label='After Cleaning')\n",
    "plt.title('Median Salary Distribution: Before vs After Cleaning')\n",
    "plt.xlabel('Annual Median Salary')\n",
    "plt.legend()\n",
    "plt.show()"
   ]
  },
  {
   "cell_type": "code",
   "execution_count": null,
   "id": "088d9068-1daa-43fe-b04c-f3c75e9a5faf",
   "metadata": {},
   "outputs": [],
   "source": [
    "# Drop rows where A_MEAN or H_MEAN is missing\n",
    "tech_clean_df = tech_clean_df.dropna(subset=['A_MEAN', 'H_MEAN']).reset_index(drop=True)\n",
    "print(\"Cleaned tech dataset shape:\", tech_clean_df.shape)"
   ]
  },
  {
   "cell_type": "markdown",
   "id": "60eb1851-960f-4d48-9dfd-906deeec2e16",
   "metadata": {},
   "source": [
    "### Filtering Rows with Missing Wage Data\n",
    "\n",
    "To ensure meaningful salary analysis, we keep only rows where average annual (`A_MEAN`) and hourly (`H_MEAN`) wage data is available. This reduces the dataset while preserving relevant information."
   ]
  },
  {
   "cell_type": "markdown",
   "id": "cf93a119-0c36-4c94-b636-802455b5e22f",
   "metadata": {},
   "source": [
    "### Converting Wage Columns to Numeric\n",
    "\n",
    "Wage columns are stored as strings, which prevents numerical operations. We convert key wage-related columns to numeric values, coercing any formatting issues (like commas or non-numeric entries)."
   ]
  },
  {
   "cell_type": "code",
   "execution_count": null,
   "id": "8c79df47-3153-4499-ba00-3a604312191f",
   "metadata": {},
   "outputs": [],
   "source": [
    "# List of wage columns to convert\n",
    "wage_columns = [\n",
    "    'A_MEAN', 'H_MEAN', 'MEAN_PRSE',\n",
    "    'H_PCT10', 'H_PCT25', 'H_MEDIAN', 'H_PCT75', 'H_PCT90',\n",
    "    'A_PCT10', 'A_PCT25', 'A_MEDIAN', 'A_PCT75', 'A_PCT90'\n",
    "]\n",
    "\n",
    "# Convert columns to numeric (coerce errors like commas or bad entries to NaN)\n",
    "for col in wage_columns:\n",
    "    tech_clean_df[col] = pd.to_numeric(tech_clean_df[col], errors='coerce')\n",
    "\n",
    "# Confirm success\n",
    "tech_clean_df[wage_columns].dtypes"
   ]
  },
  {
   "cell_type": "markdown",
   "id": "292458c3-c93e-4b27-839a-22fbd66b00dc",
   "metadata": {},
   "source": [
    "### Wage Columns Converted\n",
    "\n",
    "All selected wage-related columns have been successfully converted to numeric format. This allows for accurate statistical analysis, plotting, and modeling."
   ]
  },
  {
   "cell_type": "markdown",
   "id": "ff227743-35db-4bf0-861e-f488a57c016e",
   "metadata": {},
   "source": [
    "### Wage Distributions for Tech Occupations\n",
    "\n",
    "To explore earnings across tech-related occupations, we begin by visualizing the distribution of average annual (`A_MEAN`) and hourly (`H_MEAN`) wages. This helps us identify outliers, trends, and central tendencies."
   ]
  },
  {
   "cell_type": "code",
   "execution_count": null,
   "id": "051ea377-a62a-4d96-be24-4a56238b6106",
   "metadata": {},
   "outputs": [],
   "source": [
    "import matplotlib.pyplot as plt\n",
    "\n",
    "# Set up figure\n",
    "plt.figure(figsize=(14, 6))\n",
    "\n",
    "# Annual wage histogram\n",
    "plt.subplot(1, 2, 1)\n",
    "tech_clean_df['A_MEAN'].plot(kind='hist', bins=50, edgecolor='black')\n",
    "plt.title('Distribution of Annual Mean Wages')\n",
    "plt.xlabel('Annual Mean Wage ($)')\n",
    "plt.ylabel('Frequency')\n",
    "\n",
    "# Hourly wage histogram\n",
    "plt.subplot(1, 2, 2)\n",
    "tech_clean_df['H_MEAN'].plot(kind='hist', bins=50, edgecolor='black', color='orange')\n",
    "plt.title('Distribution of Hourly Mean Wages')\n",
    "plt.xlabel('Hourly Mean Wage ($)')\n",
    "plt.ylabel('Frequency')\n",
    "\n",
    "plt.tight_layout()\n",
    "plt.show()"
   ]
  },
  {
   "cell_type": "markdown",
   "id": "c91bfe66-2b33-40c6-95b0-0b3422c3cc76",
   "metadata": {},
   "source": [
    "### Top-Paying Tech Occupations\n",
    "\n",
    "This chart highlights the 15 highest-paying tech roles based on average annual wage."
   ]
  },
  {
   "cell_type": "code",
   "execution_count": null,
   "id": "05360967-8f2b-48ea-8fd6-8c84c79f7e48",
   "metadata": {},
   "outputs": [],
   "source": [
    "top_paying_roles = (\n",
    "    tech_clean_df.groupby('OCC_TITLE')['A_MEAN']\n",
    "    .mean()\n",
    "    .sort_values(ascending=False)\n",
    "    .head(15)\n",
    ")\n",
    "\n",
    "plt.figure(figsize=(10, 6))\n",
    "top_paying_roles.plot(kind='barh', color='seagreen')\n",
    "plt.title('Top 15 Highest-Paying Tech Occupations')\n",
    "plt.xlabel('Average Annual Wage ($)')\n",
    "plt.ylabel('Occupation')\n",
    "plt.gca().invert_yaxis()\n",
    "plt.tight_layout()\n",
    "plt.show()"
   ]
  },
  {
   "cell_type": "markdown",
   "id": "be9c33bf-6878-40ec-9a67-013b27b628fa",
   "metadata": {},
   "source": [
    "### Job Role Distribution\n",
    "\n",
    "We examine how frequently different tech roles appear in the dataset. This helps us understand which occupations are more represented across the U.S. in the BLS data."
   ]
  },
  {
   "cell_type": "code",
   "execution_count": null,
   "id": "37eb58a1-f790-4cc0-a6e9-30a16fe5d82d",
   "metadata": {},
   "outputs": [],
   "source": [
    "# Count how many times each occupation appears\n",
    "occupation_counts = (\n",
    "    tech_clean_df['OCC_TITLE']\n",
    "    .value_counts()\n",
    "    .head(15)\n",
    ")\n",
    "\n",
    "# Plot\n",
    "plt.figure(figsize=(10, 6))\n",
    "occupation_counts.plot(kind='barh', color='coral')\n",
    "plt.title('Top 15 Most Common Tech Occupations in Dataset')\n",
    "plt.xlabel('Number of Records')\n",
    "plt.ylabel('Occupation')\n",
    "plt.gca().invert_yaxis()\n",
    "plt.tight_layout()\n",
    "plt.show()"
   ]
  },
  {
   "cell_type": "markdown",
   "id": "9e961ee9-6d2d-46ec-98e6-8f1d9642ca3a",
   "metadata": {},
   "source": [
    "### Regional Salary Trends Across the U.S.\n",
    "\n",
    "To examine geographic salary trends, we calculate the average annual wage (`A_MEAN`) for tech roles by state."
   ]
  },
  {
   "cell_type": "code",
   "execution_count": null,
   "id": "472c5903-04ec-4dea-a34f-c3f83bd0b5dd",
   "metadata": {},
   "outputs": [],
   "source": [
    "# Average salary by state\n",
    "state_salary = tech_clean_df.groupby('PRIM_STATE')['A_MEAN'].mean().sort_values(ascending=False)\n",
    "\n",
    "# Plot\n",
    "plt.figure(figsize=(12, 6))\n",
    "state_salary.plot(kind='bar', color='slateblue')\n",
    "plt.title('Average Tech Salary by State')\n",
    "plt.xlabel('State')\n",
    "plt.ylabel('Average Annual Wage ($)')\n",
    "plt.xticks(rotation=90)\n",
    "plt.tight_layout()\n",
    "plt.show()"
   ]
  },
  {
   "cell_type": "markdown",
   "id": "c0a38b4f-5d72-4e0e-bb5c-0d385bb0c1fb",
   "metadata": {},
   "source": [
    "### Do Highly-Paid Roles Also Employ the Most People?\n",
    "\n",
    "This scatter plot compares average salary to total employment across tech roles. Roles in the top right are both highly paid and widely employed."
   ]
  },
  {
   "cell_type": "code",
   "execution_count": null,
   "id": "1dd4ee54-9677-4058-aa77-28066e58e505",
   "metadata": {},
   "outputs": [],
   "source": [
    "plt.figure(figsize=(12, 7))\n",
    "plt.scatter(summary['total_employment'], summary['avg_salary'], alpha=0.7, edgecolor='gray')\n",
    "\n",
    "# Annotate top 5 by employment\n",
    "top_jobs = summary.sort_values(by='total_employment', ascending=False).head(5)\n",
    "for i, row in top_jobs.iterrows():\n",
    "    plt.text(row['total_employment'], row['avg_salary'], i, fontsize=9, ha='right')\n",
    "\n",
    "# Annotate top 5 by salary\n",
    "top_salaries = summary.sort_values(by='avg_salary', ascending=False).head(5)\n",
    "for i, row in top_salaries.iterrows():\n",
    "    plt.text(row['total_employment'], row['avg_salary'], i, fontsize=9, ha='left')\n",
    "\n",
    "plt.xscale('log')\n",
    "plt.title('Salary vs. Employment by Occupation')\n",
    "plt.xlabel('Total Employment (log scale)')\n",
    "plt.ylabel('Average Annual Wage ($)')\n",
    "plt.grid(True, which='both', linestyle='--', linewidth=0.5)\n",
    "plt.tight_layout()\n",
    "plt.show()"
   ]
  },
  {
   "cell_type": "markdown",
   "id": "a5210188-9d76-4b73-aa39-f1cd692ab745",
   "metadata": {},
   "source": [
    "### Grouping Occupations by Wage and Employment\n",
    "\n",
    "This bubble chart visualizes tech occupations by average salary and total employment. Larger bubbles represent roles with greater workforce size.\n"
   ]
  },
  {
   "cell_type": "code",
   "execution_count": null,
   "id": "711bdafd-e88b-4cfd-ae98-d6b64fea6880",
   "metadata": {},
   "outputs": [],
   "source": [
    "import seaborn as sns\n",
    "import matplotlib.pyplot as plt\n",
    "\n",
    "# Optional: Refresh OCC_GROUP (if needed)\n",
    "top_occ = tech_clean_df['OCC_TITLE'].value_counts().index[:10]\n",
    "summary['OCC_GROUP'] = summary.index.to_series().apply(lambda x: x if x in top_occ else 'Other')\n",
    "\n",
    "# Filter out less relevant groups\n",
    "filtered_summary = summary[\n",
    "    ~summary['OCC_GROUP'].isin(['Other', 'Data Entry Keyers', 'Receptionists and Information Clerks'])\n",
    "].copy()\n",
    "\n",
    "# Scale bubble size\n",
    "filtered_summary['scaled_emp'] = filtered_summary['total_employment'] / 100\n",
    "\n",
    "# Create the bubble chart\n",
    "plt.figure(figsize=(12, 7))\n",
    "bubble = sns.scatterplot(\n",
    "    data=filtered_summary,\n",
    "    x='total_employment',\n",
    "    y='avg_salary',\n",
    "    hue='OCC_GROUP',\n",
    "    size='scaled_emp',\n",
    "    sizes=(50000, 50000),  # more dramatic bubble scaling\n",
    "    alpha=0.5,\n",
    "    edgecolor='gray',\n",
    "    linewidth=0.6,\n",
    "    palette='tab10',\n",
    "    legend='full'\n",
    ")\n",
    "\n",
    "plt.xscale('log')\n",
    "plt.title('Tech Occupations Grouped by Wage and Employment (Focused View)')\n",
    "plt.xlabel('Total Employment (log scale)')\n",
    "plt.ylabel('Average Annual Wage ($)')\n",
    "plt.grid(True, linestyle='--', linewidth=0.5)\n",
    "\n",
    "# Clean up legend (remove size dots)\n",
    "handles, labels = bubble.get_legend_handles_labels()\n",
    "filtered = [(h, l) for h, l in zip(handles, labels) if not l.replace('.', '', 1).isdigit()]\n",
    "bubble.legend(\n",
    "    handles=[h for h, _ in filtered],\n",
    "    labels=[l for _, l in filtered],\n",
    "    title='Occupation Group',\n",
    "    bbox_to_anchor=(1.05, 1),\n",
    "    loc='upper left'\n",
    ")\n",
    "\n",
    "plt.tight_layout()\n",
    "plt.show()"
   ]
  },
  {
   "cell_type": "markdown",
   "id": "740b2539-260f-45e8-bd9c-de148eafb688",
   "metadata": {},
   "source": [
    "### Result: Tech Occupations Grouped by Wage and Employment\n",
    "\n",
    "This focused bubble chart visualizes tech occupations by their average annual wage and total employment, with bubble size uniformly scaled for visual impact. Roles with the highest employment cluster to the right, while those with high wages appear higher on the chart. By filtering out less relevant occupations, this view highlights key tech roles with clearer differentiation across salary and scale."
   ]
  },
  {
   "cell_type": "markdown",
   "id": "b3758df4-2a4c-412c-83cf-75be047ae06b",
   "metadata": {},
   "source": [
    "## Feature Engineering\n",
    "\n",
    "We now select and transform the most relevant features for salary prediction. The target variable is `A_MEAN`, representing the annual mean salary. Categorical features such as `OCC_TITLE` and `NAICS_TITLE` will be encoded to be used in regression models. Employment (`TOT_EMP`) will be retained as a numeric predictor."
   ]
  },
  {
   "cell_type": "markdown",
   "id": "8b586860-8888-48e6-8865-85e6983004dc",
   "metadata": {},
   "source": [
    "### Exploring Categorical Features\n",
    "\n",
    "To prepare the dataset for modeling, we begin by reviewing key categorical columns. Understanding the number of unique values in each helps determine whether to group, encode, or transform them for predictive analysis."
   ]
  },
  {
   "cell_type": "code",
   "execution_count": null,
   "id": "e2fa0d83-59c0-46c7-80b0-a0fad8a26ad6",
   "metadata": {},
   "outputs": [],
   "source": [
    "# Explore categorical features\n",
    "print(\"Unique OCC_TITLEs:\", tech_clean_df['OCC_TITLE'].nunique())\n",
    "print(\"Unique AREA_TITLEs:\", tech_clean_df['AREA_TITLE'].nunique())\n",
    "print(\"Unique PRIM_STATEs:\", tech_clean_df['PRIM_STATE'].nunique())"
   ]
  },
  {
   "cell_type": "markdown",
   "id": "15346638-5fee-43e7-b091-573bb5008927",
   "metadata": {},
   "source": [
    "To reduce sparsity and avoid overfitting, we group less frequent occupations into an \"Other\" category. This allows us to focus on the most common roles while preserving interpretability. We then apply one-hot encoding to the grouped occupation titles to prepare them for modeling."
   ]
  },
  {
   "cell_type": "code",
   "execution_count": null,
   "id": "e356b61d-4bc6-4db8-aad3-4491622e9c73",
   "metadata": {},
   "outputs": [],
   "source": [
    "# Group less frequent occupations under \"Other\"\n",
    "top_occupations = tech_clean_df['OCC_TITLE'].value_counts().index[:10]\n",
    "tech_clean_df['OCC_GROUP'] = tech_clean_df['OCC_TITLE'].apply(lambda x: x if x in top_occupations else 'Other')\n",
    "\n",
    "# One-hot encode the grouped occupation titles\n",
    "df_encoded = pd.get_dummies(tech_clean_df, columns=['OCC_GROUP'], prefix='OCC')\n",
    "# Confirm the new columns from OCC_GROUP one-hot encoding\n",
    "df_encoded.filter(like='OCC_').columns"
   ]
  },
  {
   "cell_type": "markdown",
   "id": "e420afcb-79d1-49d1-8040-efaf4bb95e58",
   "metadata": {},
   "source": [
    "We now encode the state variable (`PRIM_STATE`) using one-hot encoding. Since there are only 54 unique values, this transformation preserves geographic detail without adding excessive dimensionality."
   ]
  },
  {
   "cell_type": "code",
   "execution_count": null,
   "id": "b5571364-4a95-44a7-83e0-659b2157c4a5",
   "metadata": {},
   "outputs": [],
   "source": [
    "# One-hot encode state abbreviations\n",
    "df_encoded = pd.get_dummies(df_encoded, columns=['PRIM_STATE'], prefix='STATE')"
   ]
  },
  {
   "cell_type": "code",
   "execution_count": null,
   "id": "c581d15c-e2de-40ac-9d45-0b2d23673133",
   "metadata": {},
   "outputs": [],
   "source": [
    "df_encoded.filter(like='STATE_').head(3)"
   ]
  },
  {
   "cell_type": "code",
   "execution_count": null,
   "id": "86d1645f-e12f-4fab-8431-0b0f54aca9c1",
   "metadata": {},
   "outputs": [],
   "source": []
  },
  {
   "cell_type": "code",
   "execution_count": null,
   "id": "b358432d-46d4-4805-8235-291063fd20cc",
   "metadata": {},
   "outputs": [],
   "source": [
    "from sklearn.preprocessing import OneHotEncoder\n",
    "from sklearn.compose import ColumnTransformer\n",
    "from sklearn.pipeline import Pipeline\n",
    "from sklearn.model_selection import train_test_split\n",
    "\n",
    "# Define target and features\n",
    "target = 'A_MEAN'\n",
    "features = ['OCC_TITLE', 'NAICS_TITLE', 'TOT_EMP']\n",
    "\n",
    "X = filtered_df[features].copy()\n",
    "y = filtered_df[target].copy()\n",
    "\n",
    "# One-hot encode categorical variables\n",
    "categorical_features = ['OCC_TITLE', 'NAICS_TITLE']\n",
    "numeric_features = ['TOT_EMP']\n",
    "\n",
    "# Build preprocessing pipeline\n",
    "preprocessor = ColumnTransformer(transformers=[\n",
    "    ('cat', OneHotEncoder(handle_unknown='ignore'), categorical_features),\n",
    "    ('num', 'passthrough', numeric_features)\n",
    "])\n",
    "\n",
    "# Split the dataset\n",
    "X_train, X_test, y_train, y_test = train_test_split(X, y, test_size=0.2, random_state=42)\n",
    "\n",
    "print(\"Training set:\", X_train.shape)\n",
    "print(\"Testing set:\", X_test.shape)"
   ]
  },
  {
   "cell_type": "markdown",
   "id": "58376599-0ca6-47bd-a4ab-a4a383803a99",
   "metadata": {},
   "source": [
    "## Step 6: Baseline Model – Linear Regression\n",
    "\n",
    "We begin by training a baseline linear regression model using preprocessed features. This model will serve as a benchmark for more complex models such as Random Forest and XGBoost."
   ]
  },
  {
   "cell_type": "code",
   "execution_count": null,
   "id": "9dc79582-211e-4865-b26c-4612d9d1b619",
   "metadata": {},
   "outputs": [],
   "source": [
    "from sklearn.linear_model import LinearRegression\n",
    "from sklearn.pipeline import Pipeline\n",
    "from sklearn.metrics import mean_absolute_error, mean_squared_error, r2_score\n",
    "import numpy as np\n",
    "\n",
    "# Create a pipeline: preprocessing + linear regression\n",
    "lr_pipeline = Pipeline(steps=[\n",
    "    ('preprocessor', preprocessor),\n",
    "    ('model', LinearRegression())\n",
    "])\n",
    "\n",
    "# Fit the model\n",
    "lr_pipeline.fit(X_train, y_train)\n",
    "\n",
    "# Predict and evaluate\n",
    "y_pred_lr = lr_pipeline.predict(X_test)\n",
    "mae = mean_absolute_error(y_test, y_pred_lr)\n",
    "rmse = np.sqrt(mean_squared_error(y_test, y_pred_lr))\n",
    "r2 = r2_score(y_test, y_pred_lr)\n",
    "\n",
    "print(\"Linear Regression Results\")\n",
    "print(f\"MAE: ${mae:,.2f}\")\n",
    "print(f\"RMSE: ${rmse:,.2f}\")\n",
    "print(f\"R² Score: {r2:.4f}\")"
   ]
  },
  {
   "cell_type": "code",
   "execution_count": null,
   "id": "29c8a623-9698-4062-85dd-8cfe18125a09",
   "metadata": {},
   "outputs": [],
   "source": []
  }
 ],
 "metadata": {
  "kernelspec": {
   "display_name": "Python [conda env:base] *",
   "language": "python",
   "name": "conda-base-py"
  },
  "language_info": {
   "codemirror_mode": {
    "name": "ipython",
    "version": 3
   },
   "file_extension": ".py",
   "mimetype": "text/x-python",
   "name": "python",
   "nbconvert_exporter": "python",
   "pygments_lexer": "ipython3",
   "version": "3.12.7"
  }
 },
 "nbformat": 4,
 "nbformat_minor": 5
}
